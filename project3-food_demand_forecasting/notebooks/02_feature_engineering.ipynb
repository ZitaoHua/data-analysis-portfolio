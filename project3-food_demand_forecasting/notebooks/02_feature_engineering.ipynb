{
 "cells": [
  {
   "cell_type": "code",
   "execution_count": 1,
   "id": "f52bef47",
   "metadata": {},
   "outputs": [],
   "source": [
    "import pandas as pd\n",
    "import numpy as np\n",
    "from sklearn.preprocessing import LabelEncoder"
   ]
  },
  {
   "cell_type": "code",
   "execution_count": 2,
   "id": "165e1600",
   "metadata": {},
   "outputs": [
    {
     "name": "stdout",
     "output_type": "stream",
     "text": [
      "Processed data loaded successfully.\n"
     ]
    }
   ],
   "source": [
    "try:\n",
    "    df_train = pd.read_csv('processed_train.csv')\n",
    "    df_test = pd.read_csv('processed_test.csv')\n",
    "    test_id = df_test['id'] \n",
    "    print(\"Processed data loaded successfully.\")\n",
    "except FileNotFoundError as e:\n",
    "    print(f\"Error: Processed data files not found. Run '01_data_prep_and_eda.py' first. ({e})\")\n",
    "    exit()"
   ]
  },
  {
   "cell_type": "code",
   "execution_count": 3,
   "id": "56e12709",
   "metadata": {},
   "outputs": [
    {
     "name": "stdout",
     "output_type": "stream",
     "text": [
      "\n",
      "Engineering Price and Promotion Features...\n"
     ]
    }
   ],
   "source": [
    "print(\"\\nEngineering Price and Promotion Features...\")\n",
    "def engineer_price_features(df):\n",
    "    \"\"\"Calculates discount, discount ratio, and relative price features.\"\"\"\n",
    "    df['discount'] = df['base_price'] - df['checkout_price']\n",
    "    df['discount_ratio'] = (df['discount'] / df['base_price']).replace([np.inf, -np.inf], 0)\n",
    "    df['price_ratio'] = df['checkout_price'] / df['base_price']\n",
    "    return df\n",
    "\n",
    "df_train = engineer_price_features(df_train)\n",
    "df_test = engineer_price_features(df_test)\n",
    "\n"
   ]
  },
  {
   "cell_type": "code",
   "execution_count": 4,
   "id": "2277de84",
   "metadata": {},
   "outputs": [
    {
     "name": "stdout",
     "output_type": "stream",
     "text": [
      "Engineering Historical Demand Features...\n",
      "Historical Demand Features created and NaN handled.\n"
     ]
    }
   ],
   "source": [
    "print(\"Engineering Historical Demand Features...\")\n",
    "\n",
    "center_meal_mean = df_train.groupby(['center_id', 'meal_id'])['log_num_orders'].mean().reset_index()\n",
    "center_meal_mean.columns = ['center_id', 'meal_id', 'center_meal_log_mean_orders']\n",
    "\n",
    "center_mean = df_train.groupby('center_id')['log_num_orders'].mean().reset_index()\n",
    "center_mean.columns = ['center_id', 'center_log_mean_orders']\n",
    "\n",
    "meal_mean = df_train.groupby('meal_id')['log_num_orders'].mean().reset_index()\n",
    "meal_mean.columns = ['meal_id', 'meal_log_mean_orders']\n",
    "\n",
    "df_train = pd.merge(df_train, center_meal_mean, on=['center_id', 'meal_id'], how='left')\n",
    "df_test = pd.merge(df_test, center_meal_mean, on=['center_id', 'meal_id'], how='left')\n",
    "\n",
    "df_train = pd.merge(df_train, center_mean, on='center_id', how='left')\n",
    "df_test = pd.merge(df_test, center_mean, on='center_id', how='left')\n",
    "\n",
    "df_train = pd.merge(df_train, meal_mean, on='meal_id', how='left')\n",
    "df_test = pd.merge(df_test, meal_mean, on='meal_id', how='left')\n",
    "\n",
    "overall_log_mean = df_train['log_num_orders'].mean()\n",
    "df_test['center_meal_log_mean_orders'] = df_test['center_meal_log_mean_orders'].fillna(overall_log_mean)\n",
    "df_test['center_log_mean_orders'] = df_test['center_log_mean_orders'].fillna(overall_log_mean)\n",
    "df_test['meal_log_mean_orders'] = df_test['meal_log_mean_orders'].fillna(overall_log_mean)\n",
    "print(\"Historical Demand Features created and NaN handled.\")\n",
    "\n"
   ]
  },
  {
   "cell_type": "code",
   "execution_count": 5,
   "id": "e0dad080",
   "metadata": {},
   "outputs": [
    {
     "name": "stdout",
     "output_type": "stream",
     "text": [
      "\n",
      "Applying Label Encoding to categorical IDs and types...\n",
      "Feature Engineering complete.\n",
      "New Training Features: ['id', 'week', 'center_id', 'meal_id', 'checkout_price', 'base_price', 'emailer_for_promotion', 'homepage_featured', 'num_orders', 'category', 'cuisine', 'city_code', 'region_code', 'center_type', 'op_area', 'log_num_orders', 'discount', 'discount_ratio', 'price_ratio', 'center_meal_log_mean_orders', 'center_log_mean_orders', 'meal_log_mean_orders']\n"
     ]
    }
   ],
   "source": [
    "print(\"\\nApplying Label Encoding to categorical IDs and types...\")\n",
    "\n",
    "categorical_cols = ['center_id', 'meal_id', 'center_type', 'region_code', 'category', 'cuisine', 'city_code']\n",
    "\n",
    "for col in categorical_cols:\n",
    "    le = LabelEncoder()\n",
    "    combined_data = pd.concat([df_train[col], df_test[col]], ignore_index=True).astype(str)\n",
    "    le.fit(combined_data)\n",
    "\n",
    "    df_train[col] = le.transform(df_train[col].astype(str))\n",
    "    df_test[col] = le.transform(df_test[col].astype(str))\n",
    "\n",
    "print(\"Feature Engineering complete.\")\n",
    "print(f\"New Training Features: {df_train.columns.tolist()}\")\n"
   ]
  },
  {
   "cell_type": "code",
   "execution_count": null,
   "id": "f498d7a2",
   "metadata": {},
   "outputs": [
    {
     "name": "stdout",
     "output_type": "stream",
     "text": [
      "\n",
      "Final feature sets saved. Proceed to '03_model_training_and_submission.py'.\n"
     ]
    }
   ],
   "source": [
    "df_train.to_csv('final_train_features.csv', index=False)\n",
    "df_test.to_csv('final_test_features.csv', index=False)\n",
    "test_id.to_csv('test_ids.csv', index=False)"
   ]
  }
 ],
 "metadata": {
  "kernelspec": {
   "display_name": "Python 3",
   "language": "python",
   "name": "python3"
  },
  "language_info": {
   "codemirror_mode": {
    "name": "ipython",
    "version": 3
   },
   "file_extension": ".py",
   "mimetype": "text/x-python",
   "name": "python",
   "nbconvert_exporter": "python",
   "pygments_lexer": "ipython3",
   "version": "3.13.7"
  }
 },
 "nbformat": 4,
 "nbformat_minor": 5
}
